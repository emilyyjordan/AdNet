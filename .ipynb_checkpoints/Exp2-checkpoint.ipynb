{
 "cells": [
  {
   "cell_type": "code",
   "execution_count": 1,
   "metadata": {},
   "outputs": [],
   "source": [
    "#changing the deck probabilities\n",
    "#have decays in deck A and B -- play with coefficient that determines the temporal relationship\n",
    "#eventually want to run a loop so that we can generate decks with different decay coefficients\n",
    "#make deck code into a function that returns the decks "
   ]
  },
  {
   "cell_type": "code",
   "execution_count": 157,
   "metadata": {},
   "outputs": [],
   "source": [
    "import random\n",
    "import math\n",
    "import matplotlib.pyplot as plt\n",
    "import numpy as np\n",
    "import pandas as pd"
   ]
  },
  {
   "cell_type": "code",
   "execution_count": 158,
   "metadata": {},
   "outputs": [],
   "source": [
    "#original code for decks\n",
    "\n",
    "#PLOTS\n",
    "\n",
    "random.seed(10)\n",
    "myT = []\n",
    "\n",
    "count1 = 1\n",
    "count2 = 1\n",
    "while count1 <= 50 or count2 <= 50:\n",
    "    choice = np.random.randint(0,2)\n",
    "    #print(choice)\n",
    "    if choice == 0 and count1 <= 50:\n",
    "        count1 += 1\n",
    "        myT.append(0)\n",
    "\n",
    "\n",
    "    if choice == 1 and count2 <= 50:\n",
    "        count2 += 1\n",
    "        myT.append(1)\n",
    "\n",
    "        "
   ]
  },
  {
   "cell_type": "code",
   "execution_count": 166,
   "metadata": {},
   "outputs": [
    {
     "data": {
      "image/png": "[encoded data removed]",
      "text/plain": [
       "<Figure size 432x288 with 1 Axes>"
      ]
     },
     "metadata": {
      "needs_background": "light"
     },
     "output_type": "display_data"
    }
   ],
   "source": [
    "\n",
    "def buildDecks(base, currCard_num, logpart, scale, intercept, divide_index):\n",
    "    wholeDeckA = []\n",
    "    wholeDeckB = []\n",
    "    #wholeDeckC = []\n",
    "    for i in range(1, 101):\n",
    "        t = myT[i-1]\n",
    "        err =  np.random.normal(0, 5)\n",
    "        if t == 1:\n",
    "            currCard = base + err\n",
    "            wholeDeckA.append(currCard)\n",
    "            wholeDeckB.append(currCard)\n",
    "        else:\n",
    "            currCard = (currCard_num/(math.log((i+logpart), scale)))+intercept\n",
    "            wholeDeckA.append(currCard)\n",
    "            wholeDeckB.append(currCard)\n",
    "#         if wholeDeckA != 0 and wholeDeckB != 0:\n",
    "#             currCard = -15 + err\n",
    "#             wholeDeckC.append(currCard)\n",
    "    wholeDeckA = [(5 * round(i/divide_index)) for i in wholeDeckA]\n",
    "    wholeDeckB = [(5 * round(i/divide_index)) for i in wholeDeckB]\n",
    "    #wholeDeckC = [(5 * round(i/5)) for i in wholeDeckC]\n",
    "\n",
    "    return wholeDeckA\n",
    "    return wholeDeckB\n",
    "    #return wholeDeckC\n",
    "\n",
    "\n",
    "#buildDecks(-15, np.random.normal(0, 5), 2000, (i+5), 1.1, -40)\n",
    "#buildDecks(15, np.random.normal(0, 5), -2000, (i+5), 1.1, 40)\n",
    "\n",
    "deckA = buildDecks(-15, 2000, (5), 1.1, -40, (5))\n",
    "deckB = buildDecks(15, -2000, (5), 1.1, 40, (5))\n",
    "#deckC = buildDecks(15, 0, 1, 1, 0)\n",
    "#plt.sublots(2)\n",
    "#ax[0].scatter(range(len(deckA)), deckA, color = \"#3778bf\")\n",
    "#ax[1].scatter(range(len(deckB)), deckB, color = \"#feb308\")\n",
    "\n",
    "plt.scatter(range(len(deckA)), deckA, color = \"#3778bf\")\n",
    "plt.scatter(range(len(deckB)), deckB, color = \"#feb308\")\n",
    "#plt.scatter(range(len(deckC)), deckC, color = \"#9b59b6\")\n",
    "plt.xticks(fontsize=20)\n",
    "plt.yticks(fontsize=20)\n",
    "plt.show()\n"
   ]
  },
  {
   "cell_type": "code",
   "execution_count": 168,
   "metadata": {},
   "outputs": [
    {
     "data": {
      "image/png": "[encoded data removed]",
      "text/plain": [
       "<Figure size 432x288 with 1 Axes>"
      ]
     },
     "metadata": {
      "needs_background": "light"
     },
     "output_type": "display_data"
    }
   ],
   "source": [
    "#deck C - control\n",
    "def buildNeutralDeck(base, divide_index):\n",
    "    wholeDeckC = []\n",
    "    for i in range(100):\n",
    "        t = myT[i]\n",
    "        err = np.random.normal(0, 5)\n",
    "        if t == 1:\n",
    "            currCard = base + err\n",
    "            wholeDeckC.append(currCard)\n",
    "        else:\n",
    "            currCard = -1*(base) + err\n",
    "            wholeDeckC.append(currCard)\n",
    "\n",
    "    wholeDeckC = [(5 * round(i/divide_index)) for i in wholeDeckC]\n",
    "    return wholeDeckC\n",
    "\n",
    "deckC = buildNeutralDeck(15, (5))\n",
    "\n",
    "plt.scatter(range(len(deckC)), deckC, color = \"#9b59b6\")\n",
    "plt.xticks(fontsize=20)\n",
    "plt.yticks(fontsize=20)\n",
    "plt.show()"
   ]
  },
  {
   "cell_type": "code",
   "execution_count": 125,
   "metadata": {},
   "outputs": [
    {
     "data": {
      "text/plain": [
       "'\\'\\n\\n#deck A - addictive\\nwholeDeckA = []\\nfor i in range(1, 101):\\n    t = myT[i-1]\\n    err = np.random.normal(0,5)\\n    if t == 1:\\n        currCard = -15 + err\\n        wholeDeckA.append(currCard)\\n    else:\\n        currCard =(2000/(math.log((i+5), 1.1)))-40\\n        wholeDeckA.append(currCard)\\n\\nwholeDeckA = [(5 * round(i/5)) for i in wholeDeckA]\\n\\nplt.scatter(range(len(wholeDeckA)), wholeDeckA, color = \"#3778bf\")\\nplt.xticks(fontsize=20)\\nplt.yticks(fontsize=20)\\nplt.show()\\n\\n#deck B - non-addictive\\nwholeDeckB = []\\nfor i in range(100):\\n    t = myT[i]\\n    err = np.random.normal(0, 5)\\n    if t == 1:\\n        currCard = 15 + err\\n        wholeDeckB.append(currCard)\\n    else:\\n        currCard =(-2000/(math.log((i+5), 1.1)))+40\\n        wholeDeckB.append(currCard)\\n        \\nwholeDeckB = [(5 * round(i/5)) for i in wholeDeckB]\\nplt.scatter(range(len(wholeDeckB)), wholeDeckB, color = \"#feb308\") #yellow\\nplt.xticks(fontsize=20)\\nplt.yticks(fontsize=20)\\nplt.show()\\n\\n#deck C - control\\nwholeDeckC = []\\nfor i in range(100):\\n    t = myT[i]\\n    err = np.random.normal(0, 5)\\n    if t == 1:\\n        currCard = 15 + err\\n        wholeDeckC.append(currCard)\\n    else:\\n        currCard = -15 + err\\n        wholeDeckC.append(currCard)\\n\\nwholeDeckC = [(5 * round(i/5)) for i in wholeDeckC]\\n\\nplt.scatter(range(len(wholeDeckC)), wholeDeckC, color = \"#3778bf\")\\nplt.scatter(range(len(wholeDeckC)), wholeDeckC, color = \"#9b59b6\")\\nplt.xticks(fontsize=20)\\nplt.yticks(fontsize=20)\\nplt.show()\\n\\nprint(np.sum(wholeDeckA))\\nprint(np.sum(wholeDeckB))\\nprint(np.sum(wholeDeckC))\\n'"
      ]
     },
     "execution_count": 125,
     "metadata": {},
     "output_type": "execute_result"
    }
   ],
   "source": [
    "#ORIGINAL CODE!\n",
    "''''\n",
    "\n",
    "#deck A - addictive\n",
    "wholeDeckA = []\n",
    "for i in range(1, 101):\n",
    "    t = myT[i-1]\n",
    "    err = np.random.normal(0,5)\n",
    "    if t == 1:\n",
    "        currCard = -15 + err\n",
    "        wholeDeckA.append(currCard)\n",
    "    else:\n",
    "        currCard =(2000/(math.log((i+5), 1.1)))-40\n",
    "        wholeDeckA.append(currCard)\n",
    "\n",
    "wholeDeckA = [(5 * round(i/5)) for i in wholeDeckA]\n",
    "\n",
    "plt.scatter(range(len(wholeDeckA)), wholeDeckA, color = \"#3778bf\")\n",
    "plt.xticks(fontsize=20)\n",
    "plt.yticks(fontsize=20)\n",
    "plt.show()\n",
    "\n",
    "#deck B - non-addictive\n",
    "wholeDeckB = []\n",
    "for i in range(100):\n",
    "    t = myT[i]\n",
    "    err = np.random.normal(0, 5)\n",
    "    if t == 1:\n",
    "        currCard = 15 + err\n",
    "        wholeDeckB.append(currCard)\n",
    "    else:\n",
    "        currCard =(-2000/(math.log((i+5), 1.1)))+40\n",
    "        wholeDeckB.append(currCard)\n",
    "        \n",
    "wholeDeckB = [(5 * round(i/5)) for i in wholeDeckB]\n",
    "plt.scatter(range(len(wholeDeckB)), wholeDeckB, color = \"#feb308\") #yellow\n",
    "plt.xticks(fontsize=20)\n",
    "plt.yticks(fontsize=20)\n",
    "plt.show()\n",
    "\n",
    "#deck C - control\n",
    "wholeDeckC = []\n",
    "for i in range(100):\n",
    "    t = myT[i]\n",
    "    err = np.random.normal(0, 5)\n",
    "    if t == 1:\n",
    "        currCard = 15 + err\n",
    "        wholeDeckC.append(currCard)\n",
    "    else:\n",
    "        currCard = -15 + err\n",
    "        wholeDeckC.append(currCard)\n",
    "\n",
    "wholeDeckC = [(5 * round(i/5)) for i in wholeDeckC]\n",
    "\n",
    "plt.scatter(range(len(wholeDeckC)), wholeDeckC, color = \"#3778bf\")\n",
    "plt.scatter(range(len(wholeDeckC)), wholeDeckC, color = \"#9b59b6\")\n",
    "plt.xticks(fontsize=20)\n",
    "plt.yticks(fontsize=20)\n",
    "plt.show()\n",
    "\n",
    "print(np.sum(wholeDeckA))\n",
    "print(np.sum(wholeDeckB))\n",
    "print(np.sum(wholeDeckC))\n",
    "'''\n"
   ]
  },
  {
   "cell_type": "code",
   "execution_count": null,
   "metadata": {},
   "outputs": [],
   "source": []
  }
 ],
 "metadata": {
  "kernelspec": {
   "display_name": "Python 3",
   "language": "python",
   "name": "python3"
  },
  "language_info": {
   "codemirror_mode": {
    "name": "ipython",
    "version": 3
   },
   "file_extension": ".py",
   "mimetype": "text/x-python",
   "name": "python",
   "nbconvert_exporter": "python",
   "pygments_lexer": "ipython3",
   "version": "3.8.5"
  }
 },
 "nbformat": 4,
 "nbformat_minor": 4
}
